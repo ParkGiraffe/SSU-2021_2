{
 "cells": [
  {
   "cell_type": "markdown",
   "metadata": {},
   "source": [
    "### 절대평가 (비율이 정해진)\n",
    "A+B 80% - A 40%, B 40%\n",
    "C 이하 20%\n",
    "=> but 교수의 재량으로 A를 50까지 줄 수 있다.\n",
    "하지만 동구 교수님은 40%로 지정할 예정.\n",
    "학생들이 많이 공부한 티가 나면, 비율을 높일 예정이다.\n",
    "\n",
    "\n",
    "### 상대평가\n",
    "A+B 70% - A 30%, b 40%\n",
    "C 이하 30%\n",
    "\n",
    "\n",
    "\n",
    "\n",
    "1. 공공데이터 다운로드\n",
    "2. csv, matplotlib 모듈을 활용한 데이터 분석\n",
    "\n",
    "\n",
    "pandas - 데이터를 판다스 프레임에 넣어서 가져옴\n",
    "csv 모듈\n",
    "- 이터레이터 객체\n",
    "리스트, Set, Dictionary와 같은 컬렉션이나 문자열과 같은 문자 Sequence 등은 for 문을 써서 하나씩 데이터를 처리할 수 있는데,\n",
    "이렇게 하나 하나 처리할 수 있는 컬렉션이나 Sequence들을 Iterable 객체\n"
   ]
  },
  {
   "cell_type": "code",
   "execution_count": 1,
   "metadata": {},
   "outputs": [
    {
     "name": "stdout",
     "output_type": "stream",
     "text": [
      "P\n",
      "y\n",
      "t\n",
      "h\n",
      "o\n",
      "n\n"
     ]
    }
   ],
   "source": [
    "# 이터레이터 객체\n",
    "\n",
    "for i in \"Python\" :\n",
    "    print(i)"
   ]
  },
  {
   "cell_type": "code",
   "execution_count": 32,
   "metadata": {},
   "outputs": [
    {
     "data": {
      "image/png": "[encoded data removed]",
      "text/plain": [
       "<Figure size 432x288 with 1 Axes>"
      ]
     },
     "metadata": {
      "needs_background": "light"
     },
     "output_type": "display_data"
    }
   ],
   "source": [
    "import matplotlib.pyplot as plt\n",
    "import csv\n",
    "\n",
    "# pandas\n",
    "# f = read_csv()\n",
    "\n",
    "f = open('/Users/yosep/OneDrive - 숭실대학교 - Soongsil University/과제/SSU2021-2_git/AI와데이터사회/6주차/a.csv', encoding='CP949') # 저장 만 함. 따로 읽는 과정이 필요함.\n",
    "d = csv.reader(f) # 저장한 csv를 읽는 과정.\n",
    "\n",
    "next(d) # 첫째 줄을 버림 == 열 제목 제거\n",
    "\n",
    "address1 = [] # 월계3동의 0세부터 n세 까지의 인구를 담아놓는 list\n",
    "address2 = []\n",
    "\n",
    "add1 = input('첫 번째 지역 입력 : ')\n",
    "add2 = input('두 번째 지역 입력 : ')\n",
    "\n",
    "for k in d: # csv 파일을 줄단위로 가져옴\n",
    "    if add1 in k[0] : # 줄에서 0번 째 칸의 요소를 검사함.\n",
    "        for i in range(3, 104, 1) : # 0번은 지역 이름, 1번과 2번은 합계가 담겨 있음. col은 총 103개가 존재.\n",
    "            address1.append(int(k[i].replace(',' , ''))) # csv 안의 요소는 string으로 가져오기 때문에, int 형으로 변환이 필요.\n",
    "                                                           # replace로 쉼표 제거.\n",
    "    if add2 in k[0] :\n",
    "        for i in range(3, 104, 1) :\n",
    "            address2.append(int(k[i].replace(',' , '')))\n",
    "\n",
    "\n",
    "plt.plot(address1, label = add1)\n",
    "plt.plot(address2, label = add2)\n",
    "\n",
    "plt.rc('font', family='AppleGothic') # window에서 실행하기\n",
    "plt.legend()\n",
    "plt.show()\n",
    "\n",
    "# 역삼1동에서 에러가 남.\n",
    "# invalid literal for int() with base 10: '1,144'\n",
    "# --> 인구수가 천 단위가 넘어가서 쉼표(',')가 들어가기 때문이다.\n",
    "# 쉼표가 있으면 숫자로 인식 불가. int()로도 불가능.\n",
    "# replace를 이용해서 쉼표를 없애야 한다. replace(old_str, new str)"
   ]
  },
  {
   "cell_type": "code",
   "execution_count": 15,
   "metadata": {},
   "outputs": [
    {
     "data": {
      "text/plain": [
       "[205,\n",
       " 237,\n",
       " 223,\n",
       " 269,\n",
       " 279,\n",
       " 247,\n",
       " 255,\n",
       " 273,\n",
       " 245,\n",
       " 267,\n",
       " 212,\n",
       " 250,\n",
       " 231,\n",
       " 186,\n",
       " 185,\n",
       " 209,\n",
       " 207,\n",
       " 220,\n",
       " 263,\n",
       " 317,\n",
       " 300,\n",
       " 352,\n",
       " 322,\n",
       " 373,\n",
       " 374,\n",
       " 410,\n",
       " 371,\n",
       " 396,\n",
       " 405,\n",
       " 400,\n",
       " 393,\n",
       " 418,\n",
       " 413,\n",
       " 452,\n",
       " 493,\n",
       " 505,\n",
       " 586,\n",
       " 568,\n",
       " 527,\n",
       " 564,\n",
       " 559,\n",
       " 457,\n",
       " 467,\n",
       " 428,\n",
       " 422,\n",
       " 474,\n",
       " 487,\n",
       " 502,\n",
       " 520,\n",
       " 487,\n",
       " 482,\n",
       " 490,\n",
       " 471,\n",
       " 461,\n",
       " 490,\n",
       " 450,\n",
       " 443,\n",
       " 519,\n",
       " 535,\n",
       " 571,\n",
       " 525,\n",
       " 531,\n",
       " 523,\n",
       " 496,\n",
       " 527,\n",
       " 462,\n",
       " 416,\n",
       " 423,\n",
       " 280,\n",
       " 309,\n",
       " 316,\n",
       " 320,\n",
       " 331,\n",
       " 262,\n",
       " 219,\n",
       " 212,\n",
       " 217,\n",
       " 286,\n",
       " 205,\n",
       " 197,\n",
       " 185,\n",
       " 151,\n",
       " 144,\n",
       " 122,\n",
       " 113,\n",
       " 84,\n",
       " 83,\n",
       " 67,\n",
       " 45,\n",
       " 38,\n",
       " 41,\n",
       " 29,\n",
       " 28,\n",
       " 10,\n",
       " 8,\n",
       " 6,\n",
       " 9,\n",
       " 3,\n",
       " 0,\n",
       " 2,\n",
       " 13]"
      ]
     },
     "execution_count": 15,
     "metadata": {},
     "output_type": "execute_result"
    }
   ],
   "source": [
    "temp"
   ]
  },
  {
   "cell_type": "code",
   "execution_count": null,
   "metadata": {},
   "outputs": [],
   "source": []
  }
 ],
 "metadata": {
  "interpreter": {
   "hash": "3cc66e52f4ca7e738b81484b4bc972ce452ea97bbe5d7d2763d777bd2f2588f1"
  },
  "kernelspec": {
   "display_name": "Python 3.8.8 64-bit ('base': conda)",
   "language": "python",
   "name": "python3"
  },
  "language_info": {
   "codemirror_mode": {
    "name": "ipython",
    "version": 3
   },
   "file_extension": ".py",
   "mimetype": "text/x-python",
   "name": "python",
   "nbconvert_exporter": "python",
   "pygments_lexer": "ipython3",
   "version": "3.8.8"
  },
  "orig_nbformat": 4
 },
 "nbformat": 4,
 "nbformat_minor": 2
}
