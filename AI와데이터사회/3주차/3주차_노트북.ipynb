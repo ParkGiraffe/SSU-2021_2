{
 "cells": [
  {
   "cell_type": "markdown",
   "metadata": {},
   "source": [
    "3주차 오프라인\n",
    "1. matplotlib - 데이터의 시각화 샘플\n",
    "2. matplotlib 옵션\n",
    "3. pandas - 데이터 프레임, 대용량 데이터 처리\n",
    "\n",
    "\n",
    "본인이 태어난 년도의 8월1일~8월10일까지의  날짜별 최고 기온 조사\n",
    "\n",
    "주피터 기본폰트 영어 >> 한글 깨짐\n",
    "\n",
    "한글 폰트를 인식/적용\n",
    "plt.rc('font', family='NanumGothic')\n",
    "plt.rc('font', family='Malgun Gothic')\n",
    "plt.rc('font', family='Gothic')\n",
    "\n",
    "\n",
    "데이터 시각화 기초 : matplotlib\n",
    " - plt.plot( 축 데이터 )\n",
    "     > 두 개 표시\n",
    "     > 마커 marker='o'\n",
    "     > color='b'\n",
    "     > label='항목이름' (범례를 표시했을 때)\n",
    " - 범례 plt.legend( )\n",
    " - 격자 plt.grid( )\n",
    " - 제목 plt.title('제목')\n",
    "plt.rc('font', family='NanumGothic')\n",
    "plt.rc('font', family='Malgun Gothic')\n",
    "plt.rc('font', family='Gothic')\n",
    "\n",
    "\n",
    " - 범례의 축 제목 \n",
    "     > plt.xlabel('날짜')\n",
    "     > plt.ylabel('기온')\n",
    "\n",
    " - 저장 savefig('파일명.png')\n",
    "     > 기본폴더에 저장[ C > 사용자(user) > 로그온이름 폴더 )\n",
    "\n",
    " - Y축 plt.ylim(10, 50)\n",
    " - X축 plt.xlim(0, 9)\n",
    "\n",
    "\n",
    "\n",
    "\n",
    "\n",
    "\n",
    "데이터 분석 : pandas \n",
    " - 파일 불러오기(excel, txt, csv)\n",
    "   pd.read_excel(경로, 옵션) / pd.read_csv('경로' , 옵션)\n",
    " - 옵션\n",
    "    > 데이터가 탭으로 구분되었을 때 delimiter='\\t'\n",
    "    > 헤더(필드/컬럼명)가 없는 경우 header=None\n",
    "\n",
    " - 경로 입력 방법\n",
    "   1. 파일 선택 후 마우스 오른쪽버튼의 [속성]\n",
    "   2. 속성창의 위치를 복사\n",
    "   3. 경로에 붙여넣기 후 파일명까지 입력\n",
    "   ** 파이썬은 \\ > / 변환해야 함\n",
    "      C:\\my_data\\test1.txt\n",
    "      C:/my_data/test1.txt       \n",
    "\n",
    " - 특정 데이터만 추출\n",
    "     > 레코드 : 인덱스, 슬라이싱[0:10]\n",
    "     > 칼럼 : 자료가 들어있는 변수명 뒤에 . 칼럼명 \n",
    "                 ex) df.출생아수 , df['천명당 출생률']\n",
    "\n",
    "     > ex) d[50:60].출생아수\n",
    "        d변수에 있는 50~60 레코드와 출생아수 칼럼 추출\n",
    "\n",
    "     > 쿼리 (참고만)\n",
    " \n",
    " \n",
    " "
   ]
  },
  {
   "cell_type": "code",
   "execution_count": 1,
   "metadata": {},
   "outputs": [],
   "source": [
    "import matplotlib.pyplot as plt"
   ]
  },
  {
   "cell_type": "code",
   "execution_count": 2,
   "metadata": {},
   "outputs": [],
   "source": [
    "# 데이터\n",
    "name = ['park', 'yo', 'sep']\n",
    "kor = [100, 50, 85]\n",
    "eng = [95, 60, 100]\n"
   ]
  },
  {
   "cell_type": "code",
   "execution_count": 4,
   "metadata": {},
   "outputs": [
    {
     "data": {
      "image/png": "[encoded data removed]",
      "text/plain": [
       "<Figure size 432x288 with 1 Axes>"
      ]
     },
     "metadata": {
      "needs_background": "light"
     },
     "output_type": "display_data"
    }
   ],
   "source": [
    "plt.plot(name, kor, color = 'blue', marker = 'o', markerSize = 8, label = '한국어') # 데이터 + 선 옵션\n",
    "plt.plot(name, eng, color = 'red', marker = '^', label = \"영어\") # marker 'v' - 역삼각형\n",
    "\n",
    "# 차트 옵션\n",
    "plt.grid() # 격자 배경\n",
    "plt.title('score')\n",
    "plt.legend() # legend = 범례 ** plot option에서 label이 설정되어있어야 작동한다.\n",
    "plt.rc('font', family='Malgun Gothic') # 한글 폰트를 인식/적용\n",
    "\n",
    "plt.show() # 표시해!! 명령"
   ]
  },
  {
   "cell_type": "code",
   "execution_count": null,
   "metadata": {},
   "outputs": [],
   "source": []
  }
 ],
 "metadata": {
  "kernelspec": {
   "display_name": "Python 3",
   "language": "python",
   "name": "python3"
  },
  "language_info": {
   "codemirror_mode": {
    "name": "ipython",
    "version": 3
   },
   "file_extension": ".py",
   "mimetype": "text/x-python",
   "name": "python",
   "nbconvert_exporter": "python",
   "pygments_lexer": "ipython3",
   "version": "3.8.3"
  }
 },
 "nbformat": 4,
 "nbformat_minor": 4
}
