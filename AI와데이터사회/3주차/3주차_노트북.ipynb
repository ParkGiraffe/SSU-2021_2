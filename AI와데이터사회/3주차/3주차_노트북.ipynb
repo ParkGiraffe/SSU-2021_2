{
 "cells": [
  {
   "cell_type": "markdown",
   "metadata": {},
   "source": [
    "3주차 오프라인\n",
    "1. matplotlib - 데이터의 시각화 샘플\n",
    "2. matplotlib 옵션\n",
    "3. pandas - 데이터 프레임, 대용량 데이터 처리\n",
    "\n",
    "\n",
    "본인이 태어난 년도의 8월1일~8월10일까지의  날짜별 최고 기온 조사\n",
    "\n",
    "주피터 기본폰트 영어 >> 한글 깨짐\n",
    "\n",
    "한글 폰트를 인식/적용\n",
    "plt.rc('font', family='NanumGothic')\n",
    "plt.rc('font', family='Malgun Gothic')\n",
    "plt.rc('font', family='Gothic')\n",
    "\n",
    "\n",
    "데이터 시각화 기초 : matplotlib\n",
    " - plt.plot( 축 데이터 )\n",
    "     > 두 개 표시\n",
    "     > 마커 marker='o'\n",
    "     > color='b'\n",
    "     > label='항목이름' (범례를 표시했을 때)\n",
    " - 범례 plt.legend( )\n",
    " - 격자 plt.grid( )\n",
    " - 제목 plt.title('제목')\n",
    "plt.rc('font', family='NanumGothic')\n",
    "plt.rc('font', family='Malgun Gothic')\n",
    "plt.rc('font', family='Gothic')\n",
    "\n",
    "\n",
    " - 범례의 축 제목 \n",
    "     > plt.xlabel('날짜')\n",
    "     > plt.ylabel('기온')\n",
    "\n",
    " - 저장 savefig('파일명.png')\n",
    "     > 기본폴더에 저장[ C > 사용자(user) > 로그온이름 폴더 )\n",
    "\n",
    " - Y축 plt.ylim(10, 50)\n",
    " - X축 plt.xlim(0, 9)\n"
   ]
  },
  {
   "cell_type": "code",
   "execution_count": 30,
   "metadata": {},
   "outputs": [],
   "source": [
    "import matplotlib.pyplot as plt"
   ]
  },
  {
   "cell_type": "code",
   "execution_count": 31,
   "metadata": {},
   "outputs": [],
   "source": [
    "# 데이터\n",
    "name = ['park', 'yo', 'sep']\n",
    "kor = [100, 50, 85]\n",
    "eng = [95, 60, 100]\n"
   ]
  },
  {
   "cell_type": "code",
   "execution_count": 32,
   "metadata": {},
   "outputs": [
    {
     "data": {
      "image/png": "[encoded data removed]",
      "text/plain": [
       "<Figure size 432x288 with 1 Axes>"
      ]
     },
     "metadata": {
      "needs_background": "light"
     },
     "output_type": "display_data"
    }
   ],
   "source": [
    "plt.plot(name, kor, color = 'blue', marker = 'o', markerSize = 8, label = '한국어') # 데이터 + 선 옵션\n",
    "plt.plot(name, eng, color = 'red', marker = '^', label = \"영어\") # marker 'v' - 역삼각형\n",
    "\n",
    "# 차트 옵션\n",
    "plt.grid() # 격자 배경\n",
    "plt.title('score')\n",
    "plt.legend() # legend = 범례 ** plot option에서 label이 설정되어있어야 작동한다.\n",
    "plt.rc('font', family='Malgun Gothic') # 한글 폰트를 인식/적용\n",
    "\n",
    "plt.show() # 표시해!! 명령"
   ]
  },
  {
   "cell_type": "markdown",
   "metadata": {},
   "source": [
    "데이터 분석 : pandas \n",
    " - 파일 불러오기(excel, txt, csv)\n",
    "   \n",
    "   pd.read_excel(경로, 옵션) / pd.read_csv('경로' , 옵션)\n",
    "   \n",
    " \n",
    " - 옵션\n",
    "    > 데이터가 탭으로 구분되었을 때 delimiter='\\t'\n",
    "    > 헤더(필드/컬럼명)가 없는 경우 header=None\n",
    "\n",
    " - 경로 입력 방법\n",
    "   1. 파일 선택 후 마우스 오른쪽버튼의 [속성]\n",
    "   2. 속성창의 위치를 복사\n",
    "   3. 경로에 붙여넣기 후 파일명까지 입력\n",
    "   ** 파이썬은 \\ > / 변환해야 함\n",
    "      C:\\my_data\\test1.txt\n",
    "      C:/my_data/test1.txt       \n",
    "\n",
    " - 특정 데이터만 추출\n",
    "     > 레코드 : 인덱스, 슬라이싱[0:10]\n",
    "     > 칼럼 : 자료가 들어있는 변수명 뒤에 . 칼럼명 \n",
    "                 ex) df.출생아수 , df['천명당 출생률']\n",
    "\n",
    "     > ex) d[50:60].출생아수\n",
    "        d변수에 있는 50~60 레코드와 출생아수 칼럼 추출\n",
    "\n",
    "     > 쿼리 (참고만)\n",
    " "
   ]
  },
  {
   "cell_type": "code",
   "execution_count": 52,
   "metadata": {},
   "outputs": [],
   "source": [
    "#20190320_박요셉\n",
    "import pandas as pd\n",
    "import matplotlib.pyplot as plt"
   ]
  },
  {
   "cell_type": "code",
   "execution_count": 34,
   "metadata": {},
   "outputs": [
    {
     "data": {
      "text/html": [
       "<div>\n",
       "<style scoped>\n",
       "    .dataframe tbody tr th:only-of-type {\n",
       "        vertical-align: middle;\n",
       "    }\n",
       "\n",
       "    .dataframe tbody tr th {\n",
       "        vertical-align: top;\n",
       "    }\n",
       "\n",
       "    .dataframe thead th {\n",
       "        text-align: right;\n",
       "    }\n",
       "</style>\n",
       "<table border=\"1\" class=\"dataframe\">\n",
       "  <thead>\n",
       "    <tr style=\"text-align: right;\">\n",
       "      <th></th>\n",
       "      <th>name</th>\n",
       "      <th>sex</th>\n",
       "      <th>age</th>\n",
       "      <th>score</th>\n",
       "    </tr>\n",
       "  </thead>\n",
       "  <tbody>\n",
       "    <tr>\n",
       "      <th>0</th>\n",
       "      <td>kang</td>\n",
       "      <td>male</td>\n",
       "      <td>20</td>\n",
       "      <td>100</td>\n",
       "    </tr>\n",
       "    <tr>\n",
       "      <th>1</th>\n",
       "      <td>lee</td>\n",
       "      <td>female</td>\n",
       "      <td>21</td>\n",
       "      <td>85</td>\n",
       "    </tr>\n",
       "    <tr>\n",
       "      <th>2</th>\n",
       "      <td>kim</td>\n",
       "      <td>female</td>\n",
       "      <td>35</td>\n",
       "      <td>79</td>\n",
       "    </tr>\n",
       "  </tbody>\n",
       "</table>\n",
       "</div>"
      ],
      "text/plain": [
       "   name      sex   age   score\n",
       "0  kang     male    20     100\n",
       "1   lee   female    21      85\n",
       "2   kim   female    35      79"
      ]
     },
     "execution_count": 34,
     "metadata": {},
     "output_type": "execute_result"
    }
   ],
   "source": [
    "test_db_1 = pd.read_csv('D:/OneDrive - 숭실대학교 - Soongsil University/과제/SSU2021-2_git/AI와데이터사회/3주차/1.txt')\n",
    "test_db_1"
   ]
  },
  {
   "cell_type": "code",
   "execution_count": 35,
   "metadata": {},
   "outputs": [
    {
     "data": {
      "text/html": [
       "<div>\n",
       "<style scoped>\n",
       "    .dataframe tbody tr th:only-of-type {\n",
       "        vertical-align: middle;\n",
       "    }\n",
       "\n",
       "    .dataframe tbody tr th {\n",
       "        vertical-align: top;\n",
       "    }\n",
       "\n",
       "    .dataframe thead th {\n",
       "        text-align: right;\n",
       "    }\n",
       "</style>\n",
       "<table border=\"1\" class=\"dataframe\">\n",
       "  <thead>\n",
       "    <tr style=\"text-align: right;\">\n",
       "      <th></th>\n",
       "      <th>이름</th>\n",
       "      <th>성별</th>\n",
       "      <th>age</th>\n",
       "      <th>score</th>\n",
       "    </tr>\n",
       "  </thead>\n",
       "  <tbody>\n",
       "    <tr>\n",
       "      <th>0</th>\n",
       "      <td>강동구</td>\n",
       "      <td>남</td>\n",
       "      <td>20</td>\n",
       "      <td>100</td>\n",
       "    </tr>\n",
       "    <tr>\n",
       "      <th>1</th>\n",
       "      <td>이동구</td>\n",
       "      <td>여</td>\n",
       "      <td>21</td>\n",
       "      <td>85</td>\n",
       "    </tr>\n",
       "    <tr>\n",
       "      <th>2</th>\n",
       "      <td>삼동구</td>\n",
       "      <td>여</td>\n",
       "      <td>35</td>\n",
       "      <td>79</td>\n",
       "    </tr>\n",
       "  </tbody>\n",
       "</table>\n",
       "</div>"
      ],
      "text/plain": [
       "    이름 성별  age  score\n",
       "0  강동구  남   20    100\n",
       "1  이동구  여   21     85\n",
       "2  삼동구  여   35     79"
      ]
     },
     "execution_count": 35,
     "metadata": {},
     "output_type": "execute_result"
    }
   ],
   "source": [
    "test_db_2 = pd.read_csv('D:/OneDrive - 숭실대학교 - Soongsil University/과제/SSU2021-2_git/AI와데이터사회/3주차/2.txt', delimiter='\\t')\n",
    "test_db_2\n",
    "\n",
    "# ,가 아니라 tab으로 분류되어 있다.\n",
    "#  데이터가 탭으로 구분되었을 때 delimiter='\\t'\n"
   ]
  },
  {
   "cell_type": "code",
   "execution_count": 36,
   "metadata": {},
   "outputs": [
    {
     "data": {
      "text/html": [
       "<div>\n",
       "<style scoped>\n",
       "    .dataframe tbody tr th:only-of-type {\n",
       "        vertical-align: middle;\n",
       "    }\n",
       "\n",
       "    .dataframe tbody tr th {\n",
       "        vertical-align: top;\n",
       "    }\n",
       "\n",
       "    .dataframe thead th {\n",
       "        text-align: right;\n",
       "    }\n",
       "</style>\n",
       "<table border=\"1\" class=\"dataframe\">\n",
       "  <thead>\n",
       "    <tr style=\"text-align: right;\">\n",
       "      <th></th>\n",
       "      <th>강동구</th>\n",
       "      <th>남</th>\n",
       "      <th>20</th>\n",
       "      <th>100</th>\n",
       "    </tr>\n",
       "  </thead>\n",
       "  <tbody>\n",
       "    <tr>\n",
       "      <th>0</th>\n",
       "      <td>이동구</td>\n",
       "      <td>여</td>\n",
       "      <td>21</td>\n",
       "      <td>85</td>\n",
       "    </tr>\n",
       "    <tr>\n",
       "      <th>1</th>\n",
       "      <td>삼동구</td>\n",
       "      <td>여</td>\n",
       "      <td>35</td>\n",
       "      <td>79</td>\n",
       "    </tr>\n",
       "  </tbody>\n",
       "</table>\n",
       "</div>"
      ],
      "text/plain": [
       "   강동구  남  20  100\n",
       "0  이동구  여  21   85\n",
       "1  삼동구  여  35   79"
      ]
     },
     "execution_count": 36,
     "metadata": {},
     "output_type": "execute_result"
    }
   ],
   "source": [
    "test_db_3 = pd.read_csv('D:/OneDrive - 숭실대학교 - Soongsil University/과제/SSU2021-2_git/AI와데이터사회/3주차/3.txt', delimiter='\\t')\n",
    "test_db_3\n",
    "#제목이 없는 경우"
   ]
  },
  {
   "cell_type": "code",
   "execution_count": 37,
   "metadata": {},
   "outputs": [
    {
     "data": {
      "text/html": [
       "<div>\n",
       "<style scoped>\n",
       "    .dataframe tbody tr th:only-of-type {\n",
       "        vertical-align: middle;\n",
       "    }\n",
       "\n",
       "    .dataframe tbody tr th {\n",
       "        vertical-align: top;\n",
       "    }\n",
       "\n",
       "    .dataframe thead th {\n",
       "        text-align: right;\n",
       "    }\n",
       "</style>\n",
       "<table border=\"1\" class=\"dataframe\">\n",
       "  <thead>\n",
       "    <tr style=\"text-align: right;\">\n",
       "      <th></th>\n",
       "      <th>0</th>\n",
       "      <th>1</th>\n",
       "      <th>2</th>\n",
       "      <th>3</th>\n",
       "    </tr>\n",
       "  </thead>\n",
       "  <tbody>\n",
       "    <tr>\n",
       "      <th>0</th>\n",
       "      <td>강동구</td>\n",
       "      <td>남</td>\n",
       "      <td>20</td>\n",
       "      <td>100</td>\n",
       "    </tr>\n",
       "    <tr>\n",
       "      <th>1</th>\n",
       "      <td>이동구</td>\n",
       "      <td>여</td>\n",
       "      <td>21</td>\n",
       "      <td>85</td>\n",
       "    </tr>\n",
       "    <tr>\n",
       "      <th>2</th>\n",
       "      <td>삼동구</td>\n",
       "      <td>여</td>\n",
       "      <td>35</td>\n",
       "      <td>79</td>\n",
       "    </tr>\n",
       "  </tbody>\n",
       "</table>\n",
       "</div>"
      ],
      "text/plain": [
       "     0  1   2    3\n",
       "0  강동구  남  20  100\n",
       "1  이동구  여  21   85\n",
       "2  삼동구  여  35   79"
      ]
     },
     "execution_count": 37,
     "metadata": {},
     "output_type": "execute_result"
    }
   ],
   "source": [
    "test_db_4 = pd.read_csv('D:/OneDrive - 숭실대학교 - Soongsil University/과제/SSU2021-2_git/AI와데이터사회/3주차/3.txt', delimiter='\\t', header=None)\n",
    "test_db_4\n",
    "# 제목이 없는 경우\n",
    "# header option에 None을 입력"
   ]
  },
  {
   "cell_type": "code",
   "execution_count": 38,
   "metadata": {},
   "outputs": [
    {
     "data": {
      "text/html": [
       "<div>\n",
       "<style scoped>\n",
       "    .dataframe tbody tr th:only-of-type {\n",
       "        vertical-align: middle;\n",
       "    }\n",
       "\n",
       "    .dataframe tbody tr th {\n",
       "        vertical-align: top;\n",
       "    }\n",
       "\n",
       "    .dataframe thead th {\n",
       "        text-align: right;\n",
       "    }\n",
       "</style>\n",
       "<table border=\"1\" class=\"dataframe\">\n",
       "  <thead>\n",
       "    <tr style=\"text-align: right;\">\n",
       "      <th></th>\n",
       "      <th>연도</th>\n",
       "      <th>출생아수</th>\n",
       "      <th>천명당출생률</th>\n",
       "    </tr>\n",
       "  </thead>\n",
       "  <tbody>\n",
       "    <tr>\n",
       "      <th>0</th>\n",
       "      <td>1951</td>\n",
       "      <td>728175</td>\n",
       "      <td>37.7</td>\n",
       "    </tr>\n",
       "    <tr>\n",
       "      <th>1</th>\n",
       "      <td>1952</td>\n",
       "      <td>775630</td>\n",
       "      <td>39.6</td>\n",
       "    </tr>\n",
       "    <tr>\n",
       "      <th>2</th>\n",
       "      <td>1953</td>\n",
       "      <td>830330</td>\n",
       "      <td>41.6</td>\n",
       "    </tr>\n",
       "    <tr>\n",
       "      <th>3</th>\n",
       "      <td>1954</td>\n",
       "      <td>892236</td>\n",
       "      <td>43.4</td>\n",
       "    </tr>\n",
       "    <tr>\n",
       "      <th>4</th>\n",
       "      <td>1955</td>\n",
       "      <td>961055</td>\n",
       "      <td>45.4</td>\n",
       "    </tr>\n",
       "    <tr>\n",
       "      <th>...</th>\n",
       "      <td>...</td>\n",
       "      <td>...</td>\n",
       "      <td>...</td>\n",
       "    </tr>\n",
       "    <tr>\n",
       "      <th>63</th>\n",
       "      <td>2014</td>\n",
       "      <td>435435</td>\n",
       "      <td>8.6</td>\n",
       "    </tr>\n",
       "    <tr>\n",
       "      <th>64</th>\n",
       "      <td>2015</td>\n",
       "      <td>438420</td>\n",
       "      <td>8.6</td>\n",
       "    </tr>\n",
       "    <tr>\n",
       "      <th>65</th>\n",
       "      <td>2016</td>\n",
       "      <td>406243</td>\n",
       "      <td>7.9</td>\n",
       "    </tr>\n",
       "    <tr>\n",
       "      <th>66</th>\n",
       "      <td>2017</td>\n",
       "      <td>357771</td>\n",
       "      <td>7.0</td>\n",
       "    </tr>\n",
       "    <tr>\n",
       "      <th>67</th>\n",
       "      <td>2018</td>\n",
       "      <td>326900</td>\n",
       "      <td>6.4</td>\n",
       "    </tr>\n",
       "  </tbody>\n",
       "</table>\n",
       "<p>68 rows × 3 columns</p>\n",
       "</div>"
      ],
      "text/plain": [
       "      연도    출생아수  천명당출생률\n",
       "0   1951  728175    37.7\n",
       "1   1952  775630    39.6\n",
       "2   1953  830330    41.6\n",
       "3   1954  892236    43.4\n",
       "4   1955  961055    45.4\n",
       "..   ...     ...     ...\n",
       "63  2014  435435     8.6\n",
       "64  2015  438420     8.6\n",
       "65  2016  406243     7.9\n",
       "66  2017  357771     7.0\n",
       "67  2018  326900     6.4\n",
       "\n",
       "[68 rows x 3 columns]"
      ]
     },
     "execution_count": 38,
     "metadata": {},
     "output_type": "execute_result"
    }
   ],
   "source": [
    "df = pd.read_excel('D:/OneDrive - 숭실대학교 - Soongsil University/과제/SSU2021-2_git/AI와데이터사회/3주차/3주_data_연도별출생인구.xlsx')\n",
    "df"
   ]
  },
  {
   "cell_type": "code",
   "execution_count": 41,
   "metadata": {},
   "outputs": [],
   "source": [
    "# 특정 column만 추출하기\n",
    "df_출생아수 = df.출생아수"
   ]
  },
  {
   "cell_type": "code",
   "execution_count": 42,
   "metadata": {},
   "outputs": [
    {
     "data": {
      "text/plain": [
       "[<matplotlib.lines.Line2D at 0x20b62df6c10>]"
      ]
     },
     "execution_count": 42,
     "metadata": {},
     "output_type": "execute_result"
    },
    {
     "data": {
      "image/png": "[encoded data removed]",
      "text/plain": [
       "<Figure size 432x288 with 1 Axes>"
      ]
     },
     "metadata": {
      "needs_background": "light"
     },
     "output_type": "display_data"
    }
   ],
   "source": [
    "plt.plot(df_출생아수)"
   ]
  },
  {
   "cell_type": "code",
   "execution_count": 43,
   "metadata": {},
   "outputs": [],
   "source": [
    "#20190320_박요셉\n",
    "import matplotlib.pyplot as plt"
   ]
  },
  {
   "cell_type": "code",
   "execution_count": 44,
   "metadata": {},
   "outputs": [],
   "source": [
    "data_1 = [10, 2, 40, 30]\n",
    "data_2 = [15, 25, 17, 34]"
   ]
  },
  {
   "cell_type": "code",
   "execution_count": 51,
   "metadata": {},
   "outputs": [
    {
     "data": {
      "image/png": "[encoded data removed]",
      "text/plain": [
       "<Figure size 432x288 with 1 Axes>"
      ]
     },
     "metadata": {
      "needs_background": "light"
     },
     "output_type": "display_data"
    }
   ],
   "source": [
    "plt.plot(data_1, color = 'black', marker = 'v', markerSize = 8, label = 'data_1') \n",
    "plt.plot(data_2, color = 'red', marker = '^', label = 'data_2') \n",
    "\n",
    "plt.grid()\n",
    "plt.title('temp')\n",
    "plt.legend() \n",
    "plt.show()"
   ]
  },
  {
   "cell_type": "code",
   "execution_count": 53,
   "metadata": {},
   "outputs": [
    {
     "data": {
      "text/html": [
       "<div>\n",
       "<style scoped>\n",
       "    .dataframe tbody tr th:only-of-type {\n",
       "        vertical-align: middle;\n",
       "    }\n",
       "\n",
       "    .dataframe tbody tr th {\n",
       "        vertical-align: top;\n",
       "    }\n",
       "\n",
       "    .dataframe thead th {\n",
       "        text-align: right;\n",
       "    }\n",
       "</style>\n",
       "<table border=\"1\" class=\"dataframe\">\n",
       "  <thead>\n",
       "    <tr style=\"text-align: right;\">\n",
       "      <th></th>\n",
       "      <th>연도</th>\n",
       "      <th>출생아수</th>\n",
       "      <th>천명당출생률</th>\n",
       "    </tr>\n",
       "  </thead>\n",
       "  <tbody>\n",
       "    <tr>\n",
       "      <th>0</th>\n",
       "      <td>1951</td>\n",
       "      <td>728175</td>\n",
       "      <td>37.7</td>\n",
       "    </tr>\n",
       "    <tr>\n",
       "      <th>1</th>\n",
       "      <td>1952</td>\n",
       "      <td>775630</td>\n",
       "      <td>39.6</td>\n",
       "    </tr>\n",
       "    <tr>\n",
       "      <th>2</th>\n",
       "      <td>1953</td>\n",
       "      <td>830330</td>\n",
       "      <td>41.6</td>\n",
       "    </tr>\n",
       "    <tr>\n",
       "      <th>3</th>\n",
       "      <td>1954</td>\n",
       "      <td>892236</td>\n",
       "      <td>43.4</td>\n",
       "    </tr>\n",
       "    <tr>\n",
       "      <th>4</th>\n",
       "      <td>1955</td>\n",
       "      <td>961055</td>\n",
       "      <td>45.4</td>\n",
       "    </tr>\n",
       "    <tr>\n",
       "      <th>...</th>\n",
       "      <td>...</td>\n",
       "      <td>...</td>\n",
       "      <td>...</td>\n",
       "    </tr>\n",
       "    <tr>\n",
       "      <th>63</th>\n",
       "      <td>2014</td>\n",
       "      <td>435435</td>\n",
       "      <td>8.6</td>\n",
       "    </tr>\n",
       "    <tr>\n",
       "      <th>64</th>\n",
       "      <td>2015</td>\n",
       "      <td>438420</td>\n",
       "      <td>8.6</td>\n",
       "    </tr>\n",
       "    <tr>\n",
       "      <th>65</th>\n",
       "      <td>2016</td>\n",
       "      <td>406243</td>\n",
       "      <td>7.9</td>\n",
       "    </tr>\n",
       "    <tr>\n",
       "      <th>66</th>\n",
       "      <td>2017</td>\n",
       "      <td>357771</td>\n",
       "      <td>7.0</td>\n",
       "    </tr>\n",
       "    <tr>\n",
       "      <th>67</th>\n",
       "      <td>2018</td>\n",
       "      <td>326900</td>\n",
       "      <td>6.4</td>\n",
       "    </tr>\n",
       "  </tbody>\n",
       "</table>\n",
       "<p>68 rows × 3 columns</p>\n",
       "</div>"
      ],
      "text/plain": [
       "      연도    출생아수  천명당출생률\n",
       "0   1951  728175    37.7\n",
       "1   1952  775630    39.6\n",
       "2   1953  830330    41.6\n",
       "3   1954  892236    43.4\n",
       "4   1955  961055    45.4\n",
       "..   ...     ...     ...\n",
       "63  2014  435435     8.6\n",
       "64  2015  438420     8.6\n",
       "65  2016  406243     7.9\n",
       "66  2017  357771     7.0\n",
       "67  2018  326900     6.4\n",
       "\n",
       "[68 rows x 3 columns]"
      ]
     },
     "execution_count": 53,
     "metadata": {},
     "output_type": "execute_result"
    }
   ],
   "source": [
    "#20190320_박요셉\n",
    "import pandas as pd\n",
    "\n",
    "test_df = pd.read_excel('D:/OneDrive - 숭실대학교 - Soongsil University/과제/SSU2021-2_git/AI와데이터사회/3주차/3주_data_연도별출생인구.xlsx')\n",
    "test_df"
   ]
  },
  {
   "cell_type": "code",
   "execution_count": null,
   "metadata": {},
   "outputs": [],
   "source": []
  }
 ],
 "metadata": {
  "kernelspec": {
   "display_name": "Python 3",
   "language": "python",
   "name": "python3"
  },
  "language_info": {
   "codemirror_mode": {
    "name": "ipython",
    "version": 3
   },
   "file_extension": ".py",
   "mimetype": "text/x-python",
   "name": "python",
   "nbconvert_exporter": "python",
   "pygments_lexer": "ipython3",
   "version": "3.8.3"
  }
 },
 "nbformat": 4,
 "nbformat_minor": 4
}
