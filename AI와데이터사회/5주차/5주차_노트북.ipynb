{
 "cells": [
  {
   "cell_type": "markdown",
   "metadata": {},
   "source": [
    "1. matplotlib중급\n",
    "2. 문자열 활용 (챗봇)\n",
    "\n",
    "\n",
    "5주차\n",
    "온라인  matplotlib, seaborn\n",
    "오프라인 matplotlib, 챗봇\n",
    "\n",
    "6주차\n",
    "온라인  워드클라우드\n",
    "오프라인  데이터분석\n",
    "\n",
    "시험범위\n",
    "온라인 1~5강 (6주차 워드클라우드 제외)\n",
    "오프라인 1~6강 전체\n",
    "\n",
    "\n",
    "- plt.figure(figsize=(10, 7))\n",
    "  그림사이즈\n",
    "\n",
    "- plt.annotate\n",
    "  어노테이션 : 그래프에 화살표를 그린후, 그 화살표에 문자열을 출력\n",
    "  plt.annotate(‘문자열' , xy , xytext , arrowprops)\n",
    "    > 문자열 : 어노테이션에서 나타낼 문자열\n",
    "    > xy: 화살표가 가르키는 점의 위치\n",
    "    > xytext는 문자열이 출력될 위치\n",
    "    > arrowprops는 화살표의 속성으로 컬러등을 정의\n",
    "\n",
    "  plt.annotate('1990년에 급감' , xy=(1990,600000) , xytext=(1995,800000), arrowprops={'color':'r'})\n",
    "\n",
    "- 알파\n",
    "- 라인스타일\n",
    "- 넓이\n",
    "- 축약방식\n",
    "\n",
    "\n",
    "------------------------------------------------------------------------------\n",
    "#자료를 불러온 후 시각화\n",
    "\n",
    "import pandas as pd\n",
    "import matplotlib.pyplot as plt\n",
    "import numpy as np\n",
    "\n",
    "data = pd.read_excel('C:/Users/DK/Desktop/인구.xlsx')\n",
    "year = data.연도\n",
    "birth = data.출생\n",
    "\n",
    "#a = np.arange(450000,1100000,100000)\n",
    "plt.rc('font', family='Malgun Gothic')\n",
    "\n",
    "plt.figure(figsize=(10, 7))\n",
    "\n",
    "plt.bar(year, birth)\n",
    "plt.annotate('1990년에 급감' , xy=(1990,600000) , xytext=(1995,800000), arrowprops={'color':'r'})\n",
    "plt.ylim([450000,1100000])\n",
    "\n",
    "plt.show()\n",
    "\n",
    "--------------------------------------------------------------------\n",
    "\n",
    "\n",
    "# 바차트 굵게 표시 1\n",
    "import matplotlib.pyplot as plt\n",
    "year = [1970, 1980, 1990, 2000, 2010]\n",
    "birth = [1006645, 862835, 649738, 634501, 470171]\n",
    "\n",
    "for i in range(len(year)) : \n",
    "    year[i] = str(year[i]) \n",
    "\n",
    "plt.bar(year, birth)\n",
    "plt.show()\n",
    "\n",
    "--------------------------------------------------------------------\n",
    "\n",
    "\n",
    "# 바차트 굵게 표시 2\n",
    "\n",
    "import matplotlib.pyplot as plt\n",
    "import numpy as np\n",
    "year = [1970, 1980, 1990, 2000, 2010]\n",
    "birth = [1006645, 862835, 649738, 634501, 470171]\n",
    "\n",
    "pos = np.arange(len(year)) # 5를 입력해도 되지만 year변수에 값이 추가될 경우에는 숫자를 입력하는 것이 바람직하지 않음\n",
    "\n",
    "plt.bar(pos, birth)\n",
    "\n",
    "plt.xticks(pos,year)\n",
    "\n",
    "plt.show()\n",
    "\n",
    "--------------------------------------------------------------------\n",
    "\n",
    "#정리\n",
    "import matplotlib.pyplot as plt\n",
    "import numpy as np\n",
    "\n",
    "year = [1970, 1980, 1990, 2000, 2010]\n",
    "birth = [1006645, 862835, 649738, 634501, 470171]\n",
    "\n",
    "#방법 1\n",
    "#for i in range(len(year)) : \n",
    "#    year[i] = str(year[i]) \n",
    "\n",
    "#방법 2-1\n",
    "# pos = np.arange(len(year)) # 5를 입력해도 되지만 year변수에 값이 추가될 경우에는 숫자를 입력하는 것이 바람직하지 않음\n",
    "\n",
    "plt.annotate('1990년에 급감' , xy=(1990,600000) , xytext=(1995,800000), arrowprops={'color':'r'})\n",
    "\n",
    "plt.bar(pos, birth) #옵션으로 width=1를 쓰는 것은 눈속임\n",
    "\n",
    "#방법2-2 plt.xticks(pos,year)\n",
    "\n",
    "plt.show()\n",
    "\n",
    "--------------------------------------------------------------------\n",
    "\n",
    "\n",
    "\n",
    "문자열 함수\n",
    "1. 대소문자\n",
    "  - text.lower()\n",
    "  - text.upper()\n",
    "  - text.capitalize()\n",
    "\n",
    "2. 불필요한 공백 제거\n",
    "  - text.strip\n",
    "\n",
    "3. 부분 변경\n",
    "  - text.replace(\"찾을문자\" , \"바꿀문자\")\n",
    "\n",
    "\n",
    "\n",
    "연습\n",
    "a = '''  Artificial Intelligence (AI) is a rapidly advancing technology,\n",
    " made possible by the Internet , that may soon have significant impacts on our everyday lives.\n",
    " AI traditionally refers to an artificial creation of human-like intelligence \n",
    " that can learn, reason, plan, perceive, or process natural language. \n",
    " These traits allow AI to bring immense socioeconomic opportunities, \n",
    " while also posing ethical and socio-economic challenges.  '''\n",
    "\n",
    "\n",
    "\n",
    "\n",
    "\n",
    "\n",
    "문자열 검색\n",
    "1. in\n",
    "  - '찾을문자' in 변수\n",
    "\n",
    "\n",
    "import webbrowser as web\n",
    "while 1 :\n",
    "    q = input(\"\\n질문입력 (종료하려면 '종료'를 입력하세요 ) >> \")\n",
    "    if \"안녕\" in q :\n",
    "        print(\"안녕하세요. 반갑습니다.\")\n",
    "    elif \"날씨\" in q :\n",
    "        print(\"오늘의 정확한 날씨를 인터넷으로 보여드릴께요.\")\n",
    "        loc = input(\"\\n지역을 입력해주세요 >> \")\n",
    "        web.open(\"https://search.naver.com/search.naver?where=nexearch&sm=top_hty&fbm=1&ie=utf8&query=%EB%82%A0%EC%94%A8 \"+loc)\n",
    "    elif \"종료\" in q :\n",
    "        break\n",
    "    else : \n",
    "        print(\"질문을 이해하지 못했습니다\")\n",
    "\n",
    "\n",
    "2. find\n",
    "  - 변수.find('찾을문자')\n",
    "\n",
    "\n",
    "\n",
    "\n",
    "\n",
    "\n",
    "5주차 워크시트\n",
    "1. \n",
    "year = [1960, 1970, 1980, 1990, 2000, 2010, 2018]\n",
    "birth = [1099294, 1006645, 862835, 649738, 634501, 470171, 326900]\n",
    "위 데이터를 활용하여, 바차트와 꺽은선형 차트로 표시하시오.\n",
    "옵션으로 알파값, 컬러, 마커, 라인스타일을 포함하시오.\n",
    "\n",
    "2. 공유한 문장을 아래의 지시사항을 수행 한 후 화면을 캡처하시오.\n",
    "  -전체 소문자   \n",
    "  -전체 대문자 \n",
    "  -맨 앞만 대문자, 나머지 소문자 \n",
    "  -변경하기 : internet -> web \n",
    "\n",
    "한글파일(워드)에 위 두가지 사항을 캡처하여 업로드하세요.\n",
    "한글파일명 5주차 워크시트 학과 학번 이름﻿\n",
    "\n",
    "\n"
   ]
  },
  {
   "cell_type": "markdown",
   "metadata": {},
   "source": [
    "# matplotlib 중급"
   ]
  },
  {
   "cell_type": "code",
   "execution_count": 1,
   "metadata": {},
   "outputs": [
    {
     "data": {
      "image/png": "[encoded data removed]",
      "text/plain": [
       "<Figure size 432x288 with 1 Axes>"
      ]
     },
     "metadata": {
      "needs_background": "light"
     },
     "output_type": "display_data"
    }
   ],
   "source": [
    "import matplotlib.pyplot as plt\n",
    "year = [1970, 1980, 1990, 2000, 2010] #연도\n",
    "birth = [1006645, 862835, 649738, 634501, 470171] #출생아수\n",
    "\n",
    "plt.bar(year, birth)\n",
    "plt.show()\n",
    "\n",
    "# year 변수 안에 없는 데이터가 표시되고 있다. \n",
    "# 이유는 숫자 형태로 지정되어 있어서 그러하다.\n",
    "# 숫자로 지정되면 각각의 항목을 전부 표현하려고 함.and\n",
    "# 따라서 해결하려면 문자열로 바꾸면 된다.\n",
    "# plot으로 표현하면, 곡률을 표현하기 위함임을 알 수 있다."
   ]
  },
  {
   "cell_type": "code",
   "execution_count": 15,
   "metadata": {},
   "outputs": [
    {
     "data": {
      "image/png": "[encoded data removed]",
      "text/plain": [
       "<Figure size 432x288 with 1 Axes>"
      ]
     },
     "metadata": {
      "needs_background": "light"
     },
     "output_type": "display_data"
    }
   ],
   "source": [
    "import matplotlib.pyplot as plt\n",
    "year = [1970, 1980, 1990, 2000, 2010] #연도\n",
    "birth = [1006645, 862835, 649738, 634501, 470171] #출생아수\n",
    "\n",
    "\n",
    "plt.plot(year, birth, color = 'r', marker = 'o', linestyle = ':')\n",
    "plt.show()\n"
   ]
  },
  {
   "cell_type": "code",
   "execution_count": null,
   "metadata": {},
   "outputs": [],
   "source": []
  },
  {
   "cell_type": "markdown",
   "metadata": {},
   "source": [
    "- 라인스타일 linestyle='--' \n",
    "\n",
    "'--' : 점선\n",
    "'-.' : 하이픈 닷 점선\n",
    "':' : 점점점 점선\n",
    "'-' : 일반 실선\n",
    "\n",
    "\n",
    "- 축약방식 \n",
    "   ex) plt.plot(year, birth , color='r', marker='o' , linestyle='--' )\n",
    "    >> plt.plot(year, birth , 'ro--' )  # color, marker, linestyle 순서를 잘 지켜야 한다.!두 개만 쓰면 안 된다. 무조건 세 개 다 써야만 적용된다.\n",
    "\n",
    "\n",
    "    \n",
    "### - 축 이름  plt. y/xlabel=('축제목')\n",
    "- 축 리미트 plt.ylim(최소,최대) (xlim도 있긴 한데, 잘 안 씀.)\n",
    "- 그림사이즈  plt.figure(figsize=(10, 7))\n",
    "- 바 차트 plt.bar x,y축이 반드시 있어야 함\n",
    "- 알파 alpha\n",
    "- 넓이 width=3 / linewidth=3\n"
   ]
  },
  {
   "cell_type": "code",
   "execution_count": 16,
   "metadata": {},
   "outputs": [
    {
     "data": {
      "image/png": "[encoded data removed]",
      "text/plain": [
       "<Figure size 720x504 with 1 Axes>"
      ]
     },
     "metadata": {
      "needs_background": "light"
     },
     "output_type": "display_data"
    }
   ],
   "source": [
    "import matplotlib.pyplot as plt\n",
    "year = [1970, 1980, 1990, 2000, 2010] # 연도\n",
    "birth = [1006645, 862835, 649738, 634501, 470171] # 출생아수\n",
    "\n",
    "\n",
    "plt.figure(figsize=(10, 7)) # 차트 종류를 정하는 plot() 위에 써야 한다. -> 차트 사이즈를 정한 후에 plot을 그린다고 보면 된다.\n",
    "\n",
    "# plt.plot(year, birth, color = 'r', marker = 'o', linestyle = ':')\n",
    "plt.plot(year, birth, 'ro-') # 축약방식\n",
    "plt.xlabel('year')\n",
    "plt.ylabel('birth')\n",
    "plt.ylim(300000, 1200000)\n",
    "plt.show()\n"
   ]
  },
  {
   "cell_type": "code",
   "execution_count": 19,
   "metadata": {},
   "outputs": [
    {
     "data": {
      "image/png": "[encoded data removed]",
      "text/plain": [
       "<Figure size 720x504 with 1 Axes>"
      ]
     },
     "metadata": {
      "needs_background": "light"
     },
     "output_type": "display_data"
    }
   ],
   "source": [
    "import matplotlib.pyplot as plt\n",
    "year = [1970, 1980, 1990, 2000, 2010] #연도\n",
    "birth = [1006645, 862835, 649738, 634501, 470171] #출생아수\n",
    "\n",
    "# 숫자를 문자로 바꾸는 방법1.\n",
    "for i in range(len(year)) : \n",
    "    year[i] = str(year[i]) \n",
    "\n",
    "plt.figure(figsize=(10, 7)) # 차트 종류를 정하는 plot() 위에 써야 한다. -> 차트 사이즈를 정한 후에 plot을 그린다고 보면 된다.\n",
    "\n",
    "# plt.plot(year, birth, color = 'r', marker = 'o', linestyle = ':')\n",
    "plt.bar(year, birth)\n",
    "plt.xlabel('year')\n",
    "plt.ylabel('birth')\n",
    "plt.ylim(300000, 1200000)\n",
    "plt.show()\n"
   ]
  },
  {
   "cell_type": "code",
   "execution_count": 21,
   "metadata": {},
   "outputs": [
    {
     "data": {
      "image/png": "[encoded data removed]",
      "text/plain": [
       "<Figure size 720x504 with 1 Axes>"
      ]
     },
     "metadata": {
      "needs_background": "light"
     },
     "output_type": "display_data"
    }
   ],
   "source": [
    "import matplotlib.pyplot as plt\n",
    "year = [1970, 1980, 1990, 2000, 2010] #연도\n",
    "birth = [1006645, 862835, 649738, 634501, 470171] #출생아수\n",
    "s_year = []\n",
    "\n",
    "# 숫자를 문자로 바꾸는 방법1-1.\n",
    "for i in year : \n",
    "    s_year.append(str(i)) \n",
    "\n",
    "plt.figure(figsize=(10, 7)) # 차트 종류를 정하는 plot() 위에 써야 한다. -> 차트 사이즈를 정한 후에 plot을 그린다고 보면 된다.\n",
    "\n",
    "# plt.plot(year, birth, color = 'r', marker = 'o', linestyle = ':')\n",
    "plt.bar(s_year, birth)\n",
    "plt.xlabel('year')\n",
    "plt.ylabel('birth')\n",
    "plt.ylim(300000, 1200000)\n",
    "plt.show()\n"
   ]
  },
  {
   "cell_type": "code",
   "execution_count": 27,
   "metadata": {},
   "outputs": [
    {
     "data": {
      "image/png": "[encoded data removed]",
      "text/plain": [
       "<Figure size 720x504 with 1 Axes>"
      ]
     },
     "metadata": {
      "needs_background": "light"
     },
     "output_type": "display_data"
    }
   ],
   "source": [
    "import matplotlib.pyplot as plt\n",
    "import numpy as np\n",
    "year = [1970, 1980, 1990, 2000, 2010] #연도\n",
    "birth = [1006645, 862835, 649738, 634501, 470171] #출생아수\n",
    "\n",
    "# 숫자를 문자로 바꾸는 방법2.\n",
    "pos = np.arange(len(year)) # 하나의 변수 공간에 수열로 만들어서 적용시키면 됨.\n",
    "\n",
    "plt.figure(figsize=(10, 7)) # 차트 종류를 정하는 plot() 위에 써야 한다. -> 차트 사이즈를 정한 후에 plot을 그린다고 보면 된다.\n",
    "\n",
    "# plt.plot(year, birth, color = 'r', marker = 'o', linestyle = ':')\n",
    "plt.bar(pos, birth)\n",
    "plt.xticks(pos, year) # x의 눈금을 지정해줌. pos가 적힌 자리(0, 1, 2, 3, 4)를 year로 변경시킴\n",
    "plt.xlabel('year')\n",
    "plt.ylabel('birth')\n",
    "plt.ylim(300000, 1200000)\n",
    "plt.show()\n"
   ]
  },
  {
   "cell_type": "code",
   "execution_count": 35,
   "metadata": {},
   "outputs": [
    {
     "data": {
      "image/png": "[encoded data removed]",
      "text/plain": [
       "<Figure size 720x504 with 1 Axes>"
      ]
     },
     "metadata": {
      "needs_background": "light"
     },
     "output_type": "display_data"
    }
   ],
   "source": [
    "import matplotlib.pyplot as plt\n",
    "import numpy as np\n",
    "\n",
    "# 숫자를 문자로 바꾸는 방법3. 모두 스트링으로\n",
    "year = ['1970', '1980', '1990', '2000', '2010'] #연도\n",
    "birth = [1006645, 862835, 649738, 634501, 470171] #출생아수\n",
    "\n",
    "pos = np.arange(len(year)) # 하나의 변수 공간에 수열로 만들어서 적용시키면 됨.\n",
    "\n",
    "plt.figure(figsize=(10, 7)) # 차트 종류를 정하는 plot() 위에 써야 한다. -> 차트 사이즈를 정한 후에 plot을 그린다고 보면 된다.\n",
    "\n",
    "# plt.plot(year, birth, color = 'r', marker = 'o', linestyle = ':')\n",
    "plt.bar(pos, birth, alpha=0.5, label = 'bar') # alpha: 투명도\n",
    "plt.plot(pos, birth, color = 'r', label = 'plot') # alpha: 투명도\n",
    "plt.xticks(pos, year) # x의 눈금을 지정해줌. pos가 적힌 자리(0, 1, 2, 3, 4)를 year로 변경시킴\n",
    "plt.xlabel('year')\n",
    "plt.ylabel('birth')\n",
    "plt.ylim(300000, 1200000)\n",
    "plt.legend()\n",
    "\n",
    "plt.show()\n"
   ]
  },
  {
   "cell_type": "markdown",
   "metadata": {},
   "source": [
    "# 문자열 활용 (챗봇)"
   ]
  },
  {
   "cell_type": "code",
   "execution_count": 42,
   "metadata": {},
   "outputs": [
    {
     "data": {
      "text/plain": [
       "'Artificial Intelligence (AI) is a rapidly advancing technology, \\nmade possible by the Internet, that may soon have significant impacts on our everyday lives. \\nAI traditionally refers to an artificial creation of human-like intelligence \\nthat can learn, reason, plan, perceive, or process natural language. \\nThese traits allow AI to bring immense socioeconomic opportunities, \\nwhile also posing ethical and socio-economic challenges.'"
      ]
     },
     "execution_count": 42,
     "metadata": {},
     "output_type": "execute_result"
    }
   ],
   "source": [
    "text = \"\"\"Artificial Intelligence (AI) is a rapidly advancing technology, \n",
    "made possible by the Internet, that may soon have significant impacts on our everyday lives. \n",
    "AI traditionally refers to an artificial creation of human-like intelligence \n",
    "that can learn, reason, plan, perceive, or process natural language. \n",
    "These traits allow AI to bring immense socioeconomic opportunities, \n",
    "while also posing ethical and socio-economic challenges.\"\"\"\n",
    "\n",
    "text"
   ]
  },
  {
   "cell_type": "code",
   "execution_count": 46,
   "metadata": {},
   "outputs": [
    {
     "data": {
      "text/plain": [
       "'artificial intelligence (ai) is a rapidly advancing technology, \\nmade possible by the internet, that may soon have significant impacts on our everyday lives. \\nai traditionally refers to an artificial creation of human-like intelligence \\nthat can learn, reason, plan, perceive, or process natural language. \\nthese traits allow ai to bring immense socioeconomic opportunities, \\nwhile also posing ethical and socio-economic challenges.'"
      ]
     },
     "execution_count": 46,
     "metadata": {},
     "output_type": "execute_result"
    }
   ],
   "source": [
    "text_lower = text.lower()\n",
    "text_lower"
   ]
  },
  {
   "cell_type": "code",
   "execution_count": 47,
   "metadata": {},
   "outputs": [
    {
     "data": {
      "text/plain": [
       "'ARTIFICIAL INTELLIGENCE (AI) IS A RAPIDLY ADVANCING TECHNOLOGY, \\nMADE POSSIBLE BY THE INTERNET, THAT MAY SOON HAVE SIGNIFICANT IMPACTS ON OUR EVERYDAY LIVES. \\nAI TRADITIONALLY REFERS TO AN ARTIFICIAL CREATION OF HUMAN-LIKE INTELLIGENCE \\nTHAT CAN LEARN, REASON, PLAN, PERCEIVE, OR PROCESS NATURAL LANGUAGE. \\nTHESE TRAITS ALLOW AI TO BRING IMMENSE SOCIOECONOMIC OPPORTUNITIES, \\nWHILE ALSO POSING ETHICAL AND SOCIO-ECONOMIC CHALLENGES.'"
      ]
     },
     "execution_count": 47,
     "metadata": {},
     "output_type": "execute_result"
    }
   ],
   "source": [
    "text_upper = text.upper()\n",
    "text_upper"
   ]
  },
  {
   "cell_type": "code",
   "execution_count": 49,
   "metadata": {},
   "outputs": [
    {
     "data": {
      "text/plain": [
       "'Artificial Intelligence (AI) is a rapidly advancing technology, \\nmade possible by the web, that may soon have significant impacts on our everyday lives. \\nAI traditionally refers to an artificial creation of human-like intelligence \\nthat can learn, reason, plan, perceive, or process natural language. \\nThese traits allow AI to bring immense socioeconomic opportunities, \\nwhile also posing ethical and socio-economic challenges.'"
      ]
     },
     "execution_count": 49,
     "metadata": {},
     "output_type": "execute_result"
    }
   ],
   "source": [
    "# replace('바꿀 대상', '어떤 것을 바꿀 건지')\n",
    "text_replaced = text.replace('Internet', 'web')\n",
    "text_replaced"
   ]
  },
  {
   "cell_type": "code",
   "execution_count": 51,
   "metadata": {},
   "outputs": [
    {
     "name": "stdout",
     "output_type": "stream",
     "text": [
      "있어요\n"
     ]
    }
   ],
   "source": [
    "a = '숭실대학교 AI 재밌다.'\n",
    "if '숭실' in a :\n",
    "    print('있어요')\n",
    "else :\n",
    "    print('없어요')"
   ]
  },
  {
   "cell_type": "code",
   "execution_count": 4,
   "metadata": {},
   "outputs": [
    {
     "name": "stdout",
     "output_type": "stream",
     "text": [
      "프로그램을 종료합니다.\n"
     ]
    }
   ],
   "source": [
    "import webbrowser as web\n",
    "\n",
    "while True :\n",
    "    q = input('질문을 입력하세요 : ')\n",
    "\n",
    "    if '안녕' in q :\n",
    "        print('안녕하세요. 만나서 반가워요.')\n",
    "\n",
    "    elif '날씨' in q :\n",
    "        print('오늘의 날씨는 우중충합니다.')\n",
    "\n",
    "    elif '배고' in q : #문자단위로 인식함. 배고파, 배고파요 모두 인식 가능하게 함.\n",
    "        print('학교 식당은 13시까지 운영합니다. 어서가서 드세요.')\n",
    "\n",
    "    elif '종료' or '꺼' in q :\n",
    "        print('프로그램을 종료합니다.')\n",
    "        break\n",
    "\n",
    "    else :\n",
    "        print(\"질문을 이해하지 못했습니다.\")\n",
    "\n",
    "# '종료 날씨'라고 입력할 경우, if문은 순서대로 진행하기 때문에 '날씨' in q에서 걸러진다.\n",
    "\n"
   ]
  }
 ],
 "metadata": {
  "interpreter": {
   "hash": "d18565347ee40ab0ae957f9753e249cf6454bc788f4e72c4b47cc01e09754e07"
  },
  "kernelspec": {
   "display_name": "Python 3.8.3 64-bit ('base': conda)",
   "language": "python",
   "name": "python3"
  },
  "language_info": {
   "codemirror_mode": {
    "name": "ipython",
    "version": 3
   },
   "file_extension": ".py",
   "mimetype": "text/x-python",
   "name": "python",
   "nbconvert_exporter": "python",
   "pygments_lexer": "ipython3",
   "version": "3.8.3"
  },
  "orig_nbformat": 4
 },
 "nbformat": 4,
 "nbformat_minor": 2
}
