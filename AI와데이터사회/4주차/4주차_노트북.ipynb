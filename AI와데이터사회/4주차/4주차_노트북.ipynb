{
 "cells": [
  {
   "cell_type": "markdown",
   "metadata": {},
   "source": [
    "# 오프라인 4주차 \n",
    "1. 리스트\n",
    "2. 넘파이\n",
    "3. 워크시트(지금까지 배운 내용)\n",
    "\n",
    "## list\n",
    "\n",
    "리스트 사용법\n",
    "  변수 = [ 1,2,3,4,5 ]\n",
    "  변수 = list( [ 1,2,3,4,5 ] )   \n",
    "  변수 = list( range(1,6,1) )\n",
    "\n",
    "\n",
    "\n",
    "range 함수\n",
    "  range(시작 , 끝 , 증감) 끝은 포함되지 않는다.\n",
    "  ex) 1~20까지 표시 >> range(1 , 21 , 1)\n",
    "  ex) 1,3,5,7,9 표시 >> range(1, 10 , 2)\n",
    "  range(1,10) = range(시작, 끝) ## 증감값을 안쓰면 디폴트 1로 인식\n",
    "  range(10) = range(끝) ## 증감값을 안쓰면 디폴트 1로 인식 , 시작값을 안쓰면 디포트 0\n",
    "  따로 자료형을 갖고 있지 않아서 list에 따로 담아줘야한다.\n",
    "  \n",
    "\n",
    "\n",
    "\n",
    " - 인덱스싱 a[1]\n",
    " - 슬라이싱 a[0:7]\n",
    " - 데이터 추가\n",
    "   1) append : 끝에 추가  \n",
    "   2) insert : 자리 지정 추가 listName.insert(id, item) | a.(1, 100)  \n",
    "   3) extend : 확장(이어준다) \n",
    "  a = [1, 2, 3]\n",
    "  b = [4, 5, 6]\n",
    "  a.extend(b) # 1, 2, 3, 4, 5, 6\n",
    "  b는 그대로 [4, 5, 6]\n",
    "\n",
    " - 데이터 삭제\n",
    "   1) remove(item) ex) a.remove(111)  지정한 위치 값과 같은 값을 검색 후 '처음 값'을 삭제, 처음부터 순차 검색 후 만나면 삭제 및 함수 종료. \n",
    "   2) pop(id) ex) a.pop(0) \n",
    "\n",
    "scores = [ ] \n",
    "for i in range(5) : \n",
    "    value = int(input('%d번 성적입력 : '%(i+1))) \n",
    "    scores.append( value ) \n",
    "print(scores) \n",
    "\n",
    "tsum = 0 \n",
    "for i in range(5) : \n",
    "    tsum += scores[i]\n",
    "\n",
    "print('합계:', tsum)\n",
    "print('평균:', tsum/5)\n",
    "\n",
    "\n",
    "\n",
    "\n",
    "\n",
    "중간 = [90, 80, 70, 60, 50]\n",
    "기말 = [80, 70, 60, 50, 40]\n",
    "최종 = []\n",
    "n = len(중간) #len 길이\n",
    "for i in range(n) :\n",
    "    v = (중간[i] + 기말[i]) / 2 \n",
    "    최종.append( )\n",
    "for i in range(n) :\n",
    "    최종[i] = 최종[i] + 7 \n",
    "print( 최종 ) \n",
    "\n",
    "\n",
    "import numpy as np \n",
    "중간 = [90, 80, 70, 60, 50]\n",
    "기말 = [80, 70, 60, 50, 40]\n",
    "mid = np.array( 중간 )\n",
    "fin = np.array( 기말 )\n",
    "score = (mid + fin)/2 + 7\n",
    "print( score ) \n",
    "\n",
    "\n",
    "\n",
    "\n",
    "## numpy\n",
    " - 왜 쓰나?\n",
    "   1) array (수열)기능 - 행렬기능으로 n차 배열의 연산이 가능하다. (ex: 행렬 곱)\n",
    "  \n",
    "  [[1, 2, 3, 4],\n",
    "  [5, 6, 7, 8]]\n",
    "\n",
    "  list는 단차원 행렬으로 vector 형식, \n",
    "  다차원 행렬인 ndarray는 matrix라고 말함.\n",
    "\n",
    "   2) 실수 값 지원 arange표시 = 실수 연산 지원\n",
    "   list()는 실수 연산을 지원하지 않아서 numpy를 사용해야 한다.\n",
    "   \n",
    "    a = list(range(0,4,0.5)) typeError 발생 - list는 float 지원 x -> numpy가 지원한다.\n",
    "    numpy - 수열기능 지원, 실수연산 지원.\n",
    "    a = np.arange(0, 4, 0.5)\n",
    "   \n",
    "   \n",
    "   3) 수학함수지원 \n",
    "    sinAcitvatedArray = np.sin(ndArrayName) 사인값 계산.\n",
    "\n",
    "배열\n",
    "1)장점\n",
    "- 구현이 쉬움\n",
    "- 인덱스가 있어 조회에서 빠른 성능을 보여줌 \n",
    "- 연속된 메모리 공간에 할당되어 순차 접근에도 빠름\n",
    "- 참조를 위한 추가 메모리 할당이 필요 없음\n",
    "\n",
    "2)단점\n",
    "- 삽입/삭제 시 뒤에 요소들을 이동해야 해서 비효율적\n",
    "- 선언 시 지정한 크기 변경 불가\n",
    "- 메모리 재사용 불가 (초기 사이즈만큼 할당이 되고, 데이터가 없더라도 메모리를 차지하고 있음)\n",
    " \n",
    "\n",
    "리스트\n",
    "1)장점\n",
    "- 삽입/삭제 시 전후 노드의 참조 관계만 수정하면 되기 때문에 효율적\n",
    "- 크기가 고정적이지 않음\n",
    "- 메모리 재사용 가능 (삭제 시 해당 노드의 참조가 사라져 GC에 의해 가용 메모리로 전환)\n",
    "\n",
    "2)단점\n",
    "- 구현이 상대적으로 복잡\n",
    "- 검색이 비효율적 (처음부터 순차적으로 검색해야 함)\n",
    "- 참조를 위한 메모리가 필요\n",
    "\n",
    "결론\n",
    "- 저장할 데이터의 개수가 정해져 있고 / 삽입, 삭제 작업이 적고 / 특정 위치의 데이터를 조회하는 작업이 많다면 배열\n",
    "- 저장할 데이터의 개수가 미정이고 / 삽입, 삭제 작업이 많고 / 특정 위치 데이터를 조회하는 경우가 별로 없다면 리스트\n",
    "\n",
    "\n",
    "\n",
    " - np.arange(시작,종료,증가)\n",
    " - np.linspace(시작,종료,구분)\n",
    "\n",
    "\n",
    "\n",
    "\n",
    "#y = 2x + 1 을 range함수로\n",
    "import matplotlib.pyplot as plt\n",
    "x = list(range(0,4,1)) #[0,1,2,3]\n",
    "y = list(range(1,9,2)) #[1,3,5,7]\n",
    "plt.plot(x,y)\n",
    "plt.show()\n",
    "\n",
    "#x값에 대한 sine 그래프\n",
    "import matplotlib.pyplot as plt\n",
    "import numpy as np\n",
    "x = np.arange(0, 3.14*2,0.1) # x = list(range(0,4,1)) << [0,1,2,3]\n",
    "y = np.sin(x)\n",
    "plt.plot(x,y)\n",
    "plt.show()\n",
    "\n",
    "\n",
    "import matplotlib.pyplot as plt\n",
    "import numpy as np\n",
    "\n",
    "x = np.linspace(0,3.14*2 ,100)\n",
    "y = np.sin(x)\n",
    "\n",
    "plt.plot(x,y)\n",
    "plt.show()\n",
    "\n",
    "\n",
    "\n",
    "\n",
    "## matplotlib 중급\n",
    "\n",
    "#일반적인 라인차트\n",
    "import matplotlib.pyplot as plt\n",
    "xValues = [1,2,3,4]\n",
    "yValues = [10, 30, 20, 40]\n",
    "plt.plot(xValues, yValues)\n",
    "plt.show()\n",
    "\n",
    "\n",
    "\n",
    "#스케터 차트\n",
    "import matplotlib.pyplot as plt\n",
    "import numpy as np \n",
    "xVal = np.random.randint(0,50,20)\n",
    "yVal = np.random.randint(0,50,20)\n",
    "plt.scatter(xVal, yVal)\n",
    "plt.show()\n",
    "\n",
    "\n"
   ]
  },
  {
   "cell_type": "code",
   "execution_count": 24,
   "metadata": {},
   "outputs": [
    {
     "data": {
      "text/plain": [
       "17"
      ]
     },
     "execution_count": 24,
     "metadata": {},
     "output_type": "execute_result"
    }
   ],
   "source": [
    "a = [1, 2, 3, 5, 6]\n",
    "sum(a)"
   ]
  },
  {
   "cell_type": "code",
   "execution_count": 28,
   "metadata": {},
   "outputs": [
    {
     "name": "stdout",
     "output_type": "stream",
     "text": [
      "[5, 2, 3, 4, 2]\n"
     ]
    }
   ],
   "source": [
    "scores = []\n",
    "for i in range(5) :\n",
    "    value = int(input(\"%d번 성적입력 : \" %(i + 1)))\n",
    "    scores.append(value)\n",
    "print(scores)"
   ]
  },
  {
   "cell_type": "code",
   "execution_count": 33,
   "metadata": {},
   "outputs": [],
   "source": [
    "import matplotlib.pyplot as plt\n",
    "import numpy as np\n"
   ]
  },
  {
   "cell_type": "code",
   "execution_count": 34,
   "metadata": {},
   "outputs": [
    {
     "data": {
      "image/png": "[encoded data removed]",
      "text/plain": [
       "<Figure size 432x288 with 1 Axes>"
      ]
     },
     "metadata": {
      "needs_background": "light"
     },
     "output_type": "display_data"
    }
   ],
   "source": [
    "# y = 2x + 1\n",
    "x = [0,1,2,3]\n",
    "y = [1,3,5,7]\n",
    "plt.plot(x,y)\n",
    "plt.show()"
   ]
  },
  {
   "cell_type": "code",
   "execution_count": 35,
   "metadata": {},
   "outputs": [
    {
     "data": {
      "text/plain": [
       "array([0. , 0.5, 1. , 1.5, 2. , 2.5, 3. , 3.5])"
      ]
     },
     "execution_count": 35,
     "metadata": {},
     "output_type": "execute_result"
    }
   ],
   "source": [
    "# a = list(range(0,4,0.5)) typeError 발생 - list는 float 지원 x -> numpy가 지원한다.\n",
    "\n",
    "# numpy - 수열기능 지원, 실수연산 지원.\n",
    "a = np.arange(0, 4, 0.5)\n",
    "a"
   ]
  },
  {
   "cell_type": "code",
   "execution_count": 40,
   "metadata": {},
   "outputs": [
    {
     "data": {
      "image/png": "[encoded data removed]",
      "text/plain": [
       "<Figure size 432x288 with 1 Axes>"
      ]
     },
     "metadata": {
      "needs_background": "light"
     },
     "output_type": "display_data"
    }
   ],
   "source": [
    "x = np.arange(1, 5, 0.1)\n",
    "y = np.sin(x)\n",
    "z = np.cos(x)\n",
    "\n",
    "plt.plot(x, y, label = 'sin')\n",
    "plt.plot(x, z, label = 'cos')\n",
    "\n",
    "\n",
    "plt.grid()\n",
    "plt.title('trigonometric ratio')\n",
    "plt.legend() \n",
    "plt.show()"
   ]
  },
  {
   "cell_type": "code",
   "execution_count": 42,
   "metadata": {},
   "outputs": [
    {
     "data": {
      "text/plain": [
       "array([ 1.        ,  1.47368421,  1.94736842,  2.42105263,  2.89473684,\n",
       "        3.36842105,  3.84210526,  4.31578947,  4.78947368,  5.26315789,\n",
       "        5.73684211,  6.21052632,  6.68421053,  7.15789474,  7.63157895,\n",
       "        8.10526316,  8.57894737,  9.05263158,  9.52631579, 10.        ])"
      ]
     },
     "execution_count": 42,
     "metadata": {},
     "output_type": "execute_result"
    }
   ],
   "source": [
    "# np.linspace(a, b, c) : a와 b를 c등분한 array 생성. a와 b도 array 안에 포함한다.\n",
    "linspaceArray = np.linspace(1, 10, 20)\n",
    "linspaceArray"
   ]
  },
  {
   "cell_type": "markdown",
   "metadata": {},
   "source": [
    "# <4주차 워크시트> \n",
    "구글 Colab 또는 Jupyter Notebook 환경에서 새 노트를 만들어 아래의 문제들을 해결해봅시다.\n",
    "(구글에서 '일별최고기온' 검색하면 기상청 웹페이지가 나옴)\n",
    "\n",
    "\n",
    "1) 최고기온의 변동 그래프를 그리시오. \n",
    "   * 기준 지역 : 본인의 태어난 지역 \n",
    "   * 기준 날짜 : 본인의 생년월일을 시작으로 이후 6~7일 데이터 \n",
    "   * 데이터는 인터넷 검색 or 관련 공공데이터 사이트 스스로 찾아 활용 \n",
    "\n",
    "\n",
    "\n",
    "2) 1번 문제에서 획득한 데이터를 엑셀(또는 txt) 파일에 입력한 후 저장하시오. \n",
    "    이 엑셀(또는 txt) 파일을 이용하여 변동 그래프를 그리시오. \n",
    "    (마커 표시, 선의 색상 변경 등 옵션을 일부 변경하시오.) \n",
    "\n",
    "\n",
    "\n",
    "4) 제출하기 \n",
    "   * 위의 작업을 수행한 후 <4주차 워크시트>에 pdf(또는 그림파일) 파일로 제출하세요. \n",
    "   * ipynb 파일을 pdf 로 출력한 후 제출하세요. \n",
    "   * 파일형식 : 4주차 워크시트 '학과' '학번' '이름'.pdf\n",
    "                    ex) 4주차 워크시트 정보통신공학 123456 강동구 \n",
    "   * PDF변환이 잘 안되는 경우 한글(워드)파일에 캡처하여 업로드\n",
    "\n",
    "\n",
    "\n",
    "스스로 해결해야 하며, 다른 사람의 내용을 복사하는 경우 F처리합니다. \n",
    "완성되지 못한 경우나 틀린 경우에는 감점하지 않습니다. \n",
    "\n"
   ]
  },
  {
   "cell_type": "code",
   "execution_count": 44,
   "metadata": {},
   "outputs": [],
   "source": [
    "# 20190320_박요셉\n",
    "import pandas as pd\n",
    "import matplotlib.pyplot as plt"
   ]
  },
  {
   "cell_type": "code",
   "execution_count": 68,
   "metadata": {},
   "outputs": [
    {
     "data": {
      "text/html": [
       "<div>\n",
       "<style scoped>\n",
       "    .dataframe tbody tr th:only-of-type {\n",
       "        vertical-align: middle;\n",
       "    }\n",
       "\n",
       "    .dataframe tbody tr th {\n",
       "        vertical-align: top;\n",
       "    }\n",
       "\n",
       "    .dataframe thead th {\n",
       "        text-align: right;\n",
       "    }\n",
       "</style>\n",
       "<table border=\"1\" class=\"dataframe\">\n",
       "  <thead>\n",
       "    <tr style=\"text-align: right;\">\n",
       "      <th></th>\n",
       "      <th>date</th>\n",
       "      <th>temp</th>\n",
       "    </tr>\n",
       "  </thead>\n",
       "  <tbody>\n",
       "    <tr>\n",
       "      <th>0</th>\n",
       "      <td>8.23</td>\n",
       "      <td>30.3</td>\n",
       "    </tr>\n",
       "    <tr>\n",
       "      <th>1</th>\n",
       "      <td>8.24</td>\n",
       "      <td>28.3</td>\n",
       "    </tr>\n",
       "    <tr>\n",
       "      <th>2</th>\n",
       "      <td>8.25</td>\n",
       "      <td>28.1</td>\n",
       "    </tr>\n",
       "    <tr>\n",
       "      <th>3</th>\n",
       "      <td>8.26</td>\n",
       "      <td>28.4</td>\n",
       "    </tr>\n",
       "    <tr>\n",
       "      <th>4</th>\n",
       "      <td>8.27</td>\n",
       "      <td>30.6</td>\n",
       "    </tr>\n",
       "    <tr>\n",
       "      <th>5</th>\n",
       "      <td>8.28</td>\n",
       "      <td>30.1</td>\n",
       "    </tr>\n",
       "    <tr>\n",
       "      <th>6</th>\n",
       "      <td>8.29</td>\n",
       "      <td>30.0</td>\n",
       "    </tr>\n",
       "    <tr>\n",
       "      <th>7</th>\n",
       "      <td>8.30</td>\n",
       "      <td>30.1</td>\n",
       "    </tr>\n",
       "  </tbody>\n",
       "</table>\n",
       "</div>"
      ],
      "text/plain": [
       "   date  temp\n",
       "0  8.23  30.3\n",
       "1  8.24  28.3\n",
       "2  8.25  28.1\n",
       "3  8.26  28.4\n",
       "4  8.27  30.6\n",
       "5  8.28  30.1\n",
       "6  8.29  30.0\n",
       "7  8.30  30.1"
      ]
     },
     "execution_count": 68,
     "metadata": {},
     "output_type": "execute_result"
    }
   ],
   "source": [
    "read_db = pd.read_excel('/Users/yosep/OneDrive - 숭실대학교 - Soongsil University/과제/SSU2021-2_git/AI와데이터사회/4주차/기온_박요셉.xlsx')\n",
    "db = read_db.drop('Unnamed: 2', axis=1)\n",
    "# print(read_db)\n",
    "db"
   ]
  },
  {
   "cell_type": "code",
   "execution_count": 70,
   "metadata": {},
   "outputs": [
    {
     "data": {
      "image/png": "[encoded data removed]",
      "text/plain": [
       "<Figure size 432x288 with 1 Axes>"
      ]
     },
     "metadata": {
      "needs_background": "light"
     },
     "output_type": "display_data"
    }
   ],
   "source": [
    "# plt.plot(db['date'], db['temp'], color = 'black', label = 'Yeosu', marker = '^')\n",
    "plt.plot(db['date'], db['temp'], color = 'black', label = 'Yeosu', marker = '^', markersize = 10)\n",
    "\n",
    "plt.grid()\n",
    "plt.title('Highest temperature')\n",
    "plt.legend() \n",
    "plt.show()"
   ]
  },
  {
   "cell_type": "code",
   "execution_count": null,
   "metadata": {},
   "outputs": [],
   "source": []
  }
 ],
 "metadata": {
  "interpreter": {
   "hash": "b0fa6594d8f4cbf19f97940f81e996739fb7646882a419484c72d19e05852a7e"
  },
  "kernelspec": {
   "display_name": "Python 3.9.2 64-bit",
   "language": "python",
   "name": "python3"
  },
  "language_info": {
   "codemirror_mode": {
    "name": "ipython",
    "version": 3
   },
   "file_extension": ".py",
   "mimetype": "text/x-python",
   "name": "python",
   "nbconvert_exporter": "python",
   "pygments_lexer": "ipython3",
   "version": "3.8.8"
  },
  "orig_nbformat": 4
 },
 "nbformat": 4,
 "nbformat_minor": 2
}
