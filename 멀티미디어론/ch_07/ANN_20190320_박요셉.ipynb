{
 "cells": [
  {
   "cell_type": "markdown",
   "metadata": {},
   "source": [
    "### 1. ch07.ipynb파일에 존재하는 퍼셉트론 파일을 공부하여 코드를 인용하고 AND, OR 게이트가 생각대로 동작하는지 실행해보고 맞게 동작함을 확인하라.\n",
    "\n",
    "(colab의 글상자를 이용하여 1번 문제와 답을 명기하라)"
   ]
  },
  {
   "cell_type": "code",
   "execution_count": 36,
   "metadata": {},
   "outputs": [],
   "source": [
    "#20190320_박요셉\n",
    "import numpy as np\n"
   ]
  },
  {
   "cell_type": "code",
   "execution_count": 37,
   "metadata": {},
   "outputs": [],
   "source": [
    "W, b = np.array([0.5, 0.5]), -0.7\n",
    "\n",
    "# W : 가중치, x1과 x2의 가중치를 모두 0.5로 부여\n",
    "# b : 임계값"
   ]
  },
  {
   "cell_type": "code",
   "execution_count": 38,
   "metadata": {},
   "outputs": [],
   "source": [
    "def perceptron(x1, x2):\n",
    "    x = np.array([x1, x2])\n",
    "    tmp = np.sum( W * x ) + b\n",
    "    if tmp <= 0: return 0 #활성함수 step -> clamp\n",
    "    else: return 1"
   ]
  },
  {
   "cell_type": "code",
   "execution_count": 39,
   "metadata": {},
   "outputs": [
    {
     "name": "stdout",
     "output_type": "stream",
     "text": [
      "--- 퍼셉트론으로 구현한 AND 게이트 ---\n",
      "(0, 0) :  0\n",
      "(0, 1) :  0\n",
      "(1, 0) :  0\n",
      "(1, 1) :  1\n"
     ]
    }
   ],
   "source": [
    "print('--- 퍼셉트론으로 구현한 AND 게이트 ---')\n",
    "for xs in [(0, 0), (0, 1), (1, 0), (1, 1)]:\n",
    "    y = perceptron(xs[0], xs[1])\n",
    "    print(xs, ': ', y)"
   ]
  },
  {
   "cell_type": "markdown",
   "metadata": {},
   "source": [
    "### 2. ch07.ipynb파일에 존재하는 LAB7-5 파일을 공부하여 코드를 인용하고 XOR 게이트가 학습후 생각대로 동작하는지 실행해보고 맞게 동작함을 확인하라.\n",
    "\n",
    "(colab의 글상자를 이용하여 2번 문제와 답을 명기하라)\n",
    "\n",
    "﻿참고로\n",
    "\n",
    "입력계층의 노드는 x1, x2로 2개\n",
    "\n",
    "은닉계층의 노드는 h1, h2, h3로 3개\n",
    "\n",
    "출력계층의 노드는 y1, y2로 2개\n",
    "\n",
    "입력계층과 은닉계층의 연결강도는 U\n",
    "\n",
    "은닉계층과 출력걔층의 연결강도는 W임﻿\n"
   ]
  },
  {
   "cell_type": "code",
   "execution_count": 40,
   "metadata": {},
   "outputs": [],
   "source": [
    "#20190320_박요셉\n",
    "\n",
    "import numpy as np\n",
    "import matplotlib.pyplot as plt"
   ]
  },
  {
   "cell_type": "code",
   "execution_count": 41,
   "metadata": {},
   "outputs": [],
   "source": [
    "# 2->3->2\n",
    "U = np.random.rand(2,3)   # 입력계층과 은닉계층의 연결강도 // 2*3 ndarray, 0~1 사이의 난수로 채워진 배열 생성\n",
    "W = np.random.rand(3,2)   # 은닉계층과 출력계층의 연결강도 \n",
    "learning_rate = 1.0       # 학습률 "
   ]
  },
  {
   "cell_type": "code",
   "execution_count": 42,
   "metadata": {},
   "outputs": [],
   "source": [
    "def sigmoid(v):\n",
    "    return 1 / (1+np.exp(-v))\n",
    "\n",
    "def derivative_sigmoid(v):\n",
    "    s = sigmoid(v)\n",
    "    return s*(1-s)"
   ]
  },
  {
   "cell_type": "code",
   "execution_count": 43,
   "metadata": {},
   "outputs": [],
   "source": [
    "# numpy.zeros(shape, dtype=float, order='C', *, like=None)\n",
    "# Return a new array of given shape and type, filled with zeros.\n",
    "\n",
    "\n",
    "input = np.zeros(2)\n",
    "\n",
    "# 순전파시 계산될 값들 \n",
    "h_sum, h_out, h_deriv = np.zeros(3), np.zeros(3), np.zeros(3)\n",
    "# 역전파시 계산될 값들 \n",
    "h_error, h_delta = np.zeros(3), np.zeros(3)                  \n",
    "\n",
    "# 순전파시 계산될 값들 \n",
    "y_sum, y_out, y_deriv = np.zeros(2), np.zeros(2), np.zeros(2)\n",
    "# 역전파시 계산될 값들 \n",
    "y_error, y_delta = np.zeros(2), np.zeros(2)"
   ]
  },
  {
   "cell_type": "markdown",
   "metadata": {},
   "source": [
    "순전파시 계산될 값들 : $\\mathbf h^{\\Sigma} ~ \\mathbf h^{\\phi} ~ \\mathbf h^{{\\phi}'}$\n",
    "\n",
    "역전파시 계산될 값들 : $\\mathbf e^h ~ \\delta^h$\n",
    "\n",
    "\n",
    "순전파시 계산될 값들 : $\\mathbf y^{\\Sigma} ~ \\mathbf y^{\\phi} ~ \\mathbf y^{{\\phi}'}$\n",
    "\n",
    "역전파시 계산될 값들 : $ \\mathbf e^y ~ \\delta^y $"
   ]
  },
  {
   "cell_type": "code",
   "execution_count": 44,
   "metadata": {},
   "outputs": [],
   "source": [
    "# x -> hidden\n",
    "def forward_xh(x):\n",
    "    global input, h_sum, h_out, h_deriv     # 전역변수를 사용하여 다른 {}에서도 해당 변수를 접근할 수 있도록 함.\n",
    "    input = x\n",
    "    h_sum = U.T.dot(input)                 # 은닉층에서 합산된 값 // T(transposed, 전치행렬, 행과 열을 서로 바꿈), dot(dot product, 벡터 내적) // 가중치(U)와 input값(X)을 각각 곱한 후 sum함.\n",
    "    h_out = sigmoid(h_sum)                 # 은닉층의 활성화 값\n",
    "    h_deriv = derivative_sigmoid(h_sum)    # 은닉층 활성화 미분치"
   ]
  },
  {
   "cell_type": "code",
   "execution_count": 45,
   "metadata": {},
   "outputs": [],
   "source": [
    "# hidden -> y\n",
    "def forward_hy():\n",
    "    global y_sum, y_out, y_deriv\n",
    "    y_sum = W.T.dot(h_out)                  # 출력층에서 합산된 값\n",
    "    y_out = sigmoid(y_sum)                  # 출력층의 활성화 값\n",
    "    y_deriv = derivative_sigmoid(y_sum)     # 출력층의 활성화 미분치"
   ]
  },
  {
   "cell_type": "code",
   "execution_count": 46,
   "metadata": {},
   "outputs": [],
   "source": [
    "def compute_error(target):\n",
    "    return y_out - target                   # 오차의 계산"
   ]
  },
  {
   "cell_type": "markdown",
   "metadata": {},
   "source": [
    "역전파 계산"
   ]
  },
  {
   "cell_type": "code",
   "execution_count": 48,
   "metadata": {},
   "outputs": [],
   "source": [
    "# y -> hidden\n",
    "def backward_y(error):\n",
    "    global y_error, y_delta, W\n",
    "    y_error = error                                    # 출력층 오차\n",
    "    y_delta = y_deriv * y_error                        # 출력층에서 보내는 델타\n",
    "    ## 연결강도 W 수정\n",
    "    dW = - learning_rate * np.outer(h_out, y_delta)    # 연결강도 갱신: 은닉층 출력과 출력층 델타의 외적\n",
    "    W = W + dW   "
   ]
  },
  {
   "cell_type": "code",
   "execution_count": 49,
   "metadata": {},
   "outputs": [],
   "source": [
    "# hidden -> x\n",
    "def backward_h():\n",
    "   global h_error, h_delta, U\n",
    "   h_error = W.dot(y_delta)                             # 은닉층 오차\n",
    "   h_delta = h_deriv * h_error                          # 은닉층에서 보내는 델타\n",
    "   ## 연결강도 U 수정\n",
    "   dU = - learning_rate * np.outer(input, h_delta)      # 연결강도 갱신\n",
    "   U = U + dU  "
   ]
  },
  {
   "cell_type": "code",
   "execution_count": 52,
   "metadata": {},
   "outputs": [],
   "source": [
    "def train(x, target):\n",
    "    #순전파\n",
    "    forward_xh(x)\n",
    "    forward_hy()\n",
    "    e = compute_error(target)\n",
    "\n",
    "    #역전파 (가중치 갱신)\n",
    "    backward_y(e)\n",
    "    backward_h()\n",
    "    return e**2 #오차의 제곱"
   ]
  },
  {
   "cell_type": "code",
   "execution_count": 53,
   "metadata": {},
   "outputs": [],
   "source": [
    "loss = []\n",
    "\n",
    "for i in range(1000): #1000에폭\n",
    "    e_accum=0 #오차 제곱의 합\n",
    "    true = np.array([1,0])\n",
    "    false = np.array([0,1])\n",
    "    e_accum += train(np.array([0,0]), false)    # 훈련 데이터 1     0,0 -> 0    \n",
    "    e_accum += train(np.array([0,1]), true)     # 훈련 데이터 2     0,1 -> 1\n",
    "    e_accum += train(np.array([1,0]), true)     # 훈련 데이터 3     1,0 -> 1\n",
    "    e_accum += train(np.array([1,1]), false)    # 훈련 데이터 4     1,1 -> 0\n",
    "    loss.append(e_accum)"
   ]
  },
  {
   "cell_type": "code",
   "execution_count": 54,
   "metadata": {},
   "outputs": [
    {
     "data": {
      "image/png": "[encoded data removed]",
      "text/plain": [
       "<Figure size 432x288 with 1 Axes>"
      ]
     },
     "metadata": {
      "needs_background": "light"
     },
     "output_type": "display_data"
    }
   ],
   "source": [
    "plt.plot(loss)\n",
    "plt.ylabel('loss')\n",
    "plt.xlabel('training')\n",
    "plt.show()"
   ]
  },
  {
   "cell_type": "code",
   "execution_count": 55,
   "metadata": {},
   "outputs": [],
   "source": [
    "def test(X):\n",
    "    y_hat = []\n",
    "    for x in X:\n",
    "        forward_xh(x)\n",
    "        forward_hy()\n",
    "        y_hat.append(y_out)\n",
    "    return y_hat"
   ]
  },
  {
   "cell_type": "code",
   "execution_count": 57,
   "metadata": {},
   "outputs": [
    {
     "data": {
      "text/plain": [
       "[array([0.07783769, 0.92200968]),\n",
       " array([0.95292284, 0.04717397]),\n",
       " array([0.95275983, 0.04733824]),\n",
       " array([0.0169909 , 0.98294998]),\n",
       " array([0.07783769, 0.92200968])]"
      ]
     },
     "execution_count": 57,
     "metadata": {},
     "output_type": "execute_result"
    }
   ],
   "source": [
    "test(np.array([[0, 0], [0, 1], [1, 0], [1, 1], [0, 0]]))"
   ]
  },
  {
   "cell_type": "code",
   "execution_count": null,
   "metadata": {},
   "outputs": [],
   "source": []
  }
 ],
 "metadata": {
  "interpreter": {
   "hash": "5c3b02fa24688d32a1d09351b7f8eac82a87272ad081601c73caead00a8e1fc4"
  },
  "kernelspec": {
   "display_name": "Python 3",
   "language": "python",
   "name": "python3"
  },
  "language_info": {
   "codemirror_mode": {
    "name": "ipython",
    "version": 3
   },
   "file_extension": ".py",
   "mimetype": "text/x-python",
   "name": "python",
   "nbconvert_exporter": "python",
   "pygments_lexer": "ipython3",
   "version": "3.8.3"
  }
 },
 "nbformat": 4,
 "nbformat_minor": 2
}
