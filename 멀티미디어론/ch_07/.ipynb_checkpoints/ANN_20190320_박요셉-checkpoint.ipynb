{
 "cells": [
  {
   "cell_type": "markdown",
   "metadata": {},
   "source": [
    "### 1. ch07.ipynb파일에 존재하는 퍼셉트론 파일을 공부하여 코드를 인용하고 AND, OR 게이트가 생각대로 동작하는지 실행해보고 맞게 동작함을 확인하라.\n",
    "\n",
    "(colab의 글상자를 이용하여 1번 문제와 답을 명기하라)"
   ]
  },
  {
   "cell_type": "code",
   "execution_count": 1,
   "metadata": {},
   "outputs": [],
   "source": [
    "import numpy as np\n"
   ]
  },
  {
   "cell_type": "code",
   "execution_count": 2,
   "metadata": {},
   "outputs": [],
   "source": [
    "def perceptron(x1, x2):\n",
    "    x = np.array([x1, x2])\n",
    "    tmp = np.sum( W * x ) + b\n",
    "    if tmp <= 0: return -1\n",
    "    else: return 1"
   ]
  }
 ],
 "metadata": {
  "interpreter": {
   "hash": "5c3b02fa24688d32a1d09351b7f8eac82a87272ad081601c73caead00a8e1fc4"
  },
  "kernelspec": {
   "display_name": "Python 3",
   "language": "python",
   "name": "python3"
  },
  "language_info": {
   "codemirror_mode": {
    "name": "ipython",
    "version": 3
   },
   "file_extension": ".py",
   "mimetype": "text/x-python",
   "name": "python",
   "nbconvert_exporter": "python",
   "pygments_lexer": "ipython3",
   "version": "3.8.3"
  }
 },
 "nbformat": 4,
 "nbformat_minor": 2
}
