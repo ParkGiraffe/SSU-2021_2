{
 "cells": [
  {
   "cell_type": "code",
   "execution_count": 1,
   "metadata": {},
   "outputs": [],
   "source": [
    "class HuffNode:\n",
    "    def __init__ (self, symbol, freq):\n",
    "        self.symbol = symbol\n",
    "        self.freq = freq\n",
    "        self.left = None\n",
    "        self.right = None\n",
    "    \n",
    "    def preorder(self) : \n",
    "        print(self.freq, end=\" \")\n",
    "        if (self.left is not None) :\n",
    "            self.left.preorder() #recursive\n",
    "        if (self.right is not None) :\n",
    "            self.right.preorder()\n",
    "\n",
    "\n",
    "def huffman (n, PQ):\n",
    "    for _ in range(n - 1):\n",
    "        p = PQ.get()[1]\n",
    "        q = PQ.get()[1]\n",
    "        r = HuffNode(' ', p.freq + q.freq)\n",
    "        r.left = p\n",
    "        r.right = q\n",
    "        PQ.put((r.freq, r))\n",
    "    return PQ.get()[1]"
   ]
  },
  {
   "cell_type": "code",
   "execution_count": 4,
   "metadata": {},
   "outputs": [
    {
     "name": "stdout",
     "output_type": "stream",
     "text": [
      "Preorder: 85 33 16 17 52 25 27 12 15 5 10 "
     ]
    }
   ],
   "source": [
    "codes = ['b', 'e', 'c', 'a', 'd', 'f']\n",
    "freqs = [5, 10, 12, 16, 17, 25]\n",
    "\n",
    "from queue import PriorityQueue # 우선순위 큐 \n",
    "\n",
    "PQ = PriorityQueue()\n",
    "for i in range(len(codes)) :\n",
    "    node = HuffNode(codes[i], freqs[i])\n",
    "    PQ.put((node.freq, node)) # 빈도수를 가지고 큐를 만듦. heap으로 구현.\n",
    "\n",
    "root = huffman(len(codes), PQ)\n",
    "\n",
    "print(\"Preorder:\", end=\" \")\n",
    "root.preorder()\n"
   ]
  }
 ],
 "metadata": {
  "interpreter": {
   "hash": "d18565347ee40ab0ae957f9753e249cf6454bc788f4e72c4b47cc01e09754e07"
  },
  "kernelspec": {
   "display_name": "Python 3.8.3 64-bit ('base': conda)",
   "language": "python",
   "name": "python3"
  },
  "language_info": {
   "codemirror_mode": {
    "name": "ipython",
    "version": 3
   },
   "file_extension": ".py",
   "mimetype": "text/x-python",
   "name": "python",
   "nbconvert_exporter": "python",
   "pygments_lexer": "ipython3",
   "version": "3.8.3"
  },
  "orig_nbformat": 4
 },
 "nbformat": 4,
 "nbformat_minor": 2
}
