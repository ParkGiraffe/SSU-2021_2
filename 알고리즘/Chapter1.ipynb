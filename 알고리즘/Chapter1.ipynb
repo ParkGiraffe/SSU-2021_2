{
 "cells": [
  {
   "cell_type": "markdown",
   "metadata": {},
   "source": [
    "Sorting Problem\n",
    "\n",
    "Sort a list S of n numbers in nondecreasing order\n",
    "input: List S of numbers\n",
    "ouput: Sorted List S of the numbers in nondecreasing order\n",
    "\n",
    "\n",
    "Instance\n",
    "input: List S = [10, 7, 11, 5, 13, 8]\n",
    "Output: [5, 7, 8, 10, 11, 13]"
   ]
  },
  {
   "cell_type": "code",
   "execution_count": null,
   "metadata": {},
   "outputs": [],
   "source": []
  }
 ],
 "metadata": {
  "language_info": {
   "name": "python"
  },
  "orig_nbformat": 4
 },
 "nbformat": 4,
 "nbformat_minor": 2
}
